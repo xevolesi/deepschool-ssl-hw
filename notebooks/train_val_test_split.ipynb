{
 "cells": [
  {
   "cell_type": "code",
   "execution_count": 20,
   "metadata": {},
   "outputs": [],
   "source": [
    "import pandas as pd\n",
    "from sklearn.model_selection import StratifiedGroupKFold\n",
    "\n",
    "\n",
    "df = pd.read_csv(\"../dataset/clothing-dataset/images.csv\")\n",
    "sgkf = StratifiedGroupKFold(shuffle=True, random_state=39)"
   ]
  },
  {
   "cell_type": "markdown",
   "metadata": {},
   "source": [
    "Давайте разобъем наш датасет на тренировочную, валидационную и тестовую выборки, стратифицируя по классам одежды и группируя по айдишнику юзера, отправившего фотографию.\n",
    "\n",
    "Зачем?\n",
    "- Мы хотим стратифицировать по классам одежды, так как хотим, чтобы в каждой выборке рапределение классов одежды было примерно одинаковым. Это даст нам хоть какой-то баланс;\n",
    "- Группировка по айди юзера делается, чтобы не получилось так, что в разных выборках будут содержатсья фотографии, отправленные одним и тем же пользователям. Так мы убедимся, что хотя бы пользовательских дублей не будет в разных выборках."
   ]
  },
  {
   "cell_type": "code",
   "execution_count": 26,
   "metadata": {},
   "outputs": [
    {
     "data": {
      "text/plain": [
       "fold\n",
       "2.0    1282\n",
       "1.0    1273\n",
       "0.0    1109\n",
       "4.0     926\n",
       "3.0     808\n",
       "Name: count, dtype: int64"
      ]
     },
     "execution_count": 26,
     "metadata": {},
     "output_type": "execute_result"
    }
   ],
   "source": [
    "for fold_idx, (_, val_idx) in enumerate(sgkf.split(df, df[\"label\"], df[\"sender_id\"])):\n",
    "    df.loc[val_idx, \"fold\"] = fold_idx\n",
    "df[\"fold\"].value_counts()"
   ]
  },
  {
   "cell_type": "code",
   "execution_count": 27,
   "metadata": {},
   "outputs": [],
   "source": [
    "df.to_csv(\"../dataset/clothing-dataset/images.csv\", index=False)"
   ]
  },
  {
   "cell_type": "code",
   "execution_count": null,
   "metadata": {},
   "outputs": [],
   "source": []
  }
 ],
 "metadata": {
  "kernelspec": {
   "display_name": ".venv",
   "language": "python",
   "name": "python3"
  },
  "language_info": {
   "codemirror_mode": {
    "name": "ipython",
    "version": 3
   },
   "file_extension": ".py",
   "mimetype": "text/x-python",
   "name": "python",
   "nbconvert_exporter": "python",
   "pygments_lexer": "ipython3",
   "version": "3.11.0rc1"
  }
 },
 "nbformat": 4,
 "nbformat_minor": 2
}

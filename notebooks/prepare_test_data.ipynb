{
 "cells": [
  {
   "cell_type": "code",
   "execution_count": null,
   "metadata": {},
   "outputs": [],
   "source": [
    "import os\n",
    "import pandas as pd\n",
    "\n",
    "\n",
    "BASE_DATASET_PATH = \"../dataset/clothing-dataset\"\n",
    "DATASET_CSV_PATH = os.path.join(BASE_DATASET_PATH, \"images.csv\")\n",
    "DATASET_IMAGES_PATH = os.path.join(BASE_DATASET_PATH, \"images\")"
   ]
  },
  {
   "cell_type": "markdown",
   "metadata": {},
   "source": [
    "Нужно сэмплировать по 1 картинке каждого класса для тестовых данных и создать тестовую `.csv`-шку."
   ]
  },
  {
   "cell_type": "code",
   "execution_count": null,
   "metadata": {},
   "outputs": [],
   "source": [
    "df = pd.read_csv(DATASET_CSV_PATH)\n",
    "df.head()"
   ]
  },
  {
   "cell_type": "markdown",
   "metadata": {},
   "source": [
    "Давайте проверим, что все картинки из `.csv` файла действительно существуют в датасете."
   ]
  },
  {
   "cell_type": "code",
   "execution_count": null,
   "metadata": {},
   "outputs": [],
   "source": [
    "df[\"exists\"] = df[\"image\"].apply(\n",
    "    lambda image_hash: os.path.exists(os.path.join(DATASET_IMAGES_PATH, image_hash + \".jpg\"))\n",
    ")\n",
    "df[\"exists\"].value_counts()"
   ]
  },
  {
   "cell_type": "markdown",
   "metadata": {},
   "source": [
    "5 картинок, как видно, в действительности в датасете нет. Давайте от них избавимся."
   ]
  },
  {
   "cell_type": "code",
   "execution_count": null,
   "metadata": {},
   "outputs": [],
   "source": [
    "df = df[df[\"exists\"]].reset_index(drop=True)\n",
    "assert df[\"exists\"].all()\n",
    "df.drop(\"exists\", axis=1, inplace=True)\n",
    "df.head(3)"
   ]
  },
  {
   "cell_type": "markdown",
   "metadata": {},
   "source": [
    "Давайте сразу же сохраним исправленный датафрейм вместо исходного, чтобы в процессе обучения не столкнуться с проблемой несуществующих картинок."
   ]
  },
  {
   "cell_type": "code",
   "execution_count": 5,
   "metadata": {},
   "outputs": [],
   "source": [
    "df.to_csv(DATASET_CSV_PATH, index=False)"
   ]
  },
  {
   "cell_type": "markdown",
   "metadata": {},
   "source": [
    "Теперь сформируем маленький набор данных для тестов:\n",
    "1. Возьмем по 1 картинке из каждого класса;\n",
    "2. Сформируем маленький `.csv`-файлик для тестов."
   ]
  },
  {
   "cell_type": "code",
   "execution_count": 6,
   "metadata": {},
   "outputs": [],
   "source": [
    "test_csv = df.groupby(\"label\").sample(1).reset_index(drop=True)\n",
    "test_csv.to_csv(\"../test_data/test.csv\", index=False)"
   ]
  },
  {
   "cell_type": "code",
   "execution_count": 7,
   "metadata": {},
   "outputs": [],
   "source": [
    "import shutil\n",
    "\n",
    "os.makedirs(\"../test_data/images/\", exist_ok=True)\n",
    "for item in test_csv.itertuples():\n",
    "    src_path = os.path.join(DATASET_IMAGES_PATH, item.image + \".jpg\")\n",
    "    dst_path = os.path.join(\"../test_data/images\", item.image + \".jpg\")\n",
    "    shutil.copy(src_path, dst_path)"
   ]
  },
  {
   "cell_type": "markdown",
   "metadata": {},
   "source": [
    "Убедимся, что картинки скопировались."
   ]
  },
  {
   "cell_type": "code",
   "execution_count": 8,
   "metadata": {},
   "outputs": [],
   "source": [
    "import cv2\n",
    "\n",
    "\n",
    "for item in test_csv.itertuples():\n",
    "    image_path = os.path.join(\"../test_data/images\", item.image + \".jpg\")\n",
    "    image = cv2.imread(image_path)\n",
    "    assert image is not None"
   ]
  }
 ],
 "metadata": {
  "kernelspec": {
   "display_name": ".venv",
   "language": "python",
   "name": "python3"
  },
  "language_info": {
   "codemirror_mode": {
    "name": "ipython",
    "version": 3
   },
   "file_extension": ".py",
   "mimetype": "text/x-python",
   "name": "python",
   "nbconvert_exporter": "python",
   "pygments_lexer": "ipython3",
   "version": "3.11.0"
  }
 },
 "nbformat": 4,
 "nbformat_minor": 2
}
